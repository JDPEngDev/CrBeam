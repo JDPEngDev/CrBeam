{
 "cells": [
  {
   "cell_type": "code",
   "execution_count": 11,
   "metadata": {},
   "outputs": [
    {
     "name": "stdout",
     "output_type": "stream",
     "text": [
      "Zey = 417234.8053333333 mm3\n",
      "Mry = 112.65339743999999 kN.m\n"
     ]
    }
   ],
   "source": [
    "bf =210.8 #mm\n",
    "tf = 18.8 #mm\n",
    "fy = 300 #MPa\n",
    "\n",
    "A_flange = bf*tf\n",
    "I_flange = 1/12*tf*bf**3\n",
    "\n",
    "Ze_flange = I_flange/(bf/2)\n",
    "Ze_channel = 278E3 #mm3 from Prosec\n",
    "\n",
    "Zey = Ze_flange + Ze_channel\n",
    "print('Zey = ' + str(Zey) +' mm3')\n",
    "\n",
    "Mry = 0.9*fy*Zey*1E-6\n",
    "print('Mry = ' + str(Mry) + ' kN.m')\n"
   ]
  },
  {
   "cell_type": "code",
   "execution_count": null,
   "metadata": {},
   "outputs": [],
   "source": []
  }
 ],
 "metadata": {
  "kernelspec": {
   "display_name": "Python 3",
   "language": "python",
   "name": "python3"
  },
  "language_info": {
   "codemirror_mode": {
    "name": "ipython",
    "version": 3
   },
   "file_extension": ".py",
   "mimetype": "text/x-python",
   "name": "python",
   "nbconvert_exporter": "python",
   "pygments_lexer": "ipython3",
   "version": "3.7.6"
  }
 },
 "nbformat": 4,
 "nbformat_minor": 4
}
